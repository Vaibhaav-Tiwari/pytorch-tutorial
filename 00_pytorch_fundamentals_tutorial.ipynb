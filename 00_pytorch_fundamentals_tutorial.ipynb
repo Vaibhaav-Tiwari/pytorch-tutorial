{
  "nbformat": 4,
  "nbformat_minor": 0,
  "metadata": {
    "colab": {
      "provenance": []
    },
    "kernelspec": {
      "name": "python3",
      "display_name": "Python 3"
    },
    "language_info": {
      "name": "python"
    }
  },
  "cells": [
    {
      "cell_type": "code",
      "source": [
        "import torch\n",
        "import pandas as pd\n",
        "import numpy as np\n",
        "import matplotlib.pyplot as plt\n",
        "print(torch.__version__)"
      ],
      "metadata": {
        "colab": {
          "base_uri": "https://localhost:8080/"
        },
        "id": "LfO4SYvEj93B",
        "outputId": "f7fa5379-26ce-41e4-a8b7-f5a6dfcd5fc7"
      },
      "execution_count": 2,
      "outputs": [
        {
          "output_type": "stream",
          "name": "stdout",
          "text": [
            "2.6.0+cu124\n"
          ]
        }
      ]
    },
    {
      "cell_type": "code",
      "source": [
        "!nvidia-smi"
      ],
      "metadata": {
        "colab": {
          "base_uri": "https://localhost:8080/"
        },
        "id": "PMQDY0fXjapJ",
        "outputId": "1865fd0b-e0bd-4262-c864-69c9ce3342a5"
      },
      "execution_count": 3,
      "outputs": [
        {
          "output_type": "stream",
          "name": "stdout",
          "text": [
            "/bin/bash: line 1: nvidia-smi: command not found\n"
          ]
        }
      ]
    },
    {
      "cell_type": "markdown",
      "source": [
        "creatiing tensors\n"
      ],
      "metadata": {
        "id": "7QPl6es7lY2s"
      }
    },
    {
      "cell_type": "code",
      "source": [
        "#scalar\n",
        "scalar = torch.tensor(7)\n",
        "scalar"
      ],
      "metadata": {
        "colab": {
          "base_uri": "https://localhost:8080/"
        },
        "id": "N2D1Rbwvlbc-",
        "outputId": "7de8e6dd-5707-4589-ae68-2ae666d5416d"
      },
      "execution_count": 4,
      "outputs": [
        {
          "output_type": "execute_result",
          "data": {
            "text/plain": [
              "tensor(7)"
            ]
          },
          "metadata": {},
          "execution_count": 4
        }
      ]
    },
    {
      "cell_type": "code",
      "source": [
        "scalar.ndim"
      ],
      "metadata": {
        "colab": {
          "base_uri": "https://localhost:8080/"
        },
        "id": "qRRIFFbWmRKz",
        "outputId": "2419953a-d4ec-43f1-b89b-219912336ee4"
      },
      "execution_count": 5,
      "outputs": [
        {
          "output_type": "execute_result",
          "data": {
            "text/plain": [
              "0"
            ]
          },
          "metadata": {},
          "execution_count": 5
        }
      ]
    },
    {
      "cell_type": "code",
      "source": [
        "scalar.item()"
      ],
      "metadata": {
        "colab": {
          "base_uri": "https://localhost:8080/"
        },
        "id": "K_0ZrJ9dm613",
        "outputId": "a105c148-ba17-4895-cbb2-e6ae0cf01ce1"
      },
      "execution_count": 6,
      "outputs": [
        {
          "output_type": "execute_result",
          "data": {
            "text/plain": [
              "7"
            ]
          },
          "metadata": {},
          "execution_count": 6
        }
      ]
    },
    {
      "cell_type": "code",
      "source": [
        "vector = torch.tensor([7,7])\n",
        "vector"
      ],
      "metadata": {
        "colab": {
          "base_uri": "https://localhost:8080/"
        },
        "id": "iYwgyBGrnC5S",
        "outputId": "e9f3645c-9e1e-4a52-e8ca-802f86e3f088"
      },
      "execution_count": 7,
      "outputs": [
        {
          "output_type": "execute_result",
          "data": {
            "text/plain": [
              "tensor([7, 7])"
            ]
          },
          "metadata": {},
          "execution_count": 7
        }
      ]
    },
    {
      "cell_type": "code",
      "source": [
        "vector.ndim"
      ],
      "metadata": {
        "colab": {
          "base_uri": "https://localhost:8080/"
        },
        "id": "dBPzoNFZnHE6",
        "outputId": "5f850906-f90c-44ec-fa3f-5f8c2d41e51e"
      },
      "execution_count": 8,
      "outputs": [
        {
          "output_type": "execute_result",
          "data": {
            "text/plain": [
              "1"
            ]
          },
          "metadata": {},
          "execution_count": 8
        }
      ]
    },
    {
      "cell_type": "code",
      "source": [
        "vector.shape"
      ],
      "metadata": {
        "colab": {
          "base_uri": "https://localhost:8080/"
        },
        "id": "_iBejpsOndFT",
        "outputId": "5f3b519c-4f79-47db-f1d1-435f4dfce2a0"
      },
      "execution_count": 9,
      "outputs": [
        {
          "output_type": "execute_result",
          "data": {
            "text/plain": [
              "torch.Size([2])"
            ]
          },
          "metadata": {},
          "execution_count": 9
        }
      ]
    },
    {
      "cell_type": "code",
      "source": [
        "#MATRIX\n",
        "MATRIX = torch.tensor([[7,8],[9,10]])\n",
        "MATRIX"
      ],
      "metadata": {
        "colab": {
          "base_uri": "https://localhost:8080/"
        },
        "id": "D9RUCCuvnibT",
        "outputId": "4580cdd4-2cb6-4dba-c34c-9950b35c92f7"
      },
      "execution_count": 10,
      "outputs": [
        {
          "output_type": "execute_result",
          "data": {
            "text/plain": [
              "tensor([[ 7,  8],\n",
              "        [ 9, 10]])"
            ]
          },
          "metadata": {},
          "execution_count": 10
        }
      ]
    },
    {
      "cell_type": "code",
      "source": [
        "MATRIX.ndim"
      ],
      "metadata": {
        "colab": {
          "base_uri": "https://localhost:8080/"
        },
        "id": "pZW7VE-8nwq1",
        "outputId": "5bebeba6-a5fb-4f73-8508-77276ba0c418"
      },
      "execution_count": 11,
      "outputs": [
        {
          "output_type": "execute_result",
          "data": {
            "text/plain": [
              "2"
            ]
          },
          "metadata": {},
          "execution_count": 11
        }
      ]
    },
    {
      "cell_type": "code",
      "source": [
        "MATRIX.shape"
      ],
      "metadata": {
        "colab": {
          "base_uri": "https://localhost:8080/"
        },
        "id": "fyASQwLPoBOH",
        "outputId": "25b6ceca-347f-45f1-cc43-c62df5ddd488"
      },
      "execution_count": 12,
      "outputs": [
        {
          "output_type": "execute_result",
          "data": {
            "text/plain": [
              "torch.Size([2, 2])"
            ]
          },
          "metadata": {},
          "execution_count": 12
        }
      ]
    },
    {
      "cell_type": "code",
      "source": [
        "# TENSOR\n",
        "TENSOR = torch.tensor([[[1,2,3],[3,6,9],[2,4,5]]])\n",
        "TENSOR"
      ],
      "metadata": {
        "colab": {
          "base_uri": "https://localhost:8080/"
        },
        "id": "mCxtngSuoC9e",
        "outputId": "fc87fa52-653b-4963-8dca-92fef0a6ab99"
      },
      "execution_count": 13,
      "outputs": [
        {
          "output_type": "execute_result",
          "data": {
            "text/plain": [
              "tensor([[[1, 2, 3],\n",
              "         [3, 6, 9],\n",
              "         [2, 4, 5]]])"
            ]
          },
          "metadata": {},
          "execution_count": 13
        }
      ]
    },
    {
      "cell_type": "code",
      "source": [
        "TENSOR.ndim"
      ],
      "metadata": {
        "colab": {
          "base_uri": "https://localhost:8080/"
        },
        "id": "uj8dkZySoOr4",
        "outputId": "5784459d-2f2d-4400-995d-8353cd6cd9c0"
      },
      "execution_count": 14,
      "outputs": [
        {
          "output_type": "execute_result",
          "data": {
            "text/plain": [
              "3"
            ]
          },
          "metadata": {},
          "execution_count": 14
        }
      ]
    },
    {
      "cell_type": "code",
      "source": [
        "TENSOR.shape"
      ],
      "metadata": {
        "colab": {
          "base_uri": "https://localhost:8080/"
        },
        "id": "28o_FnABojKS",
        "outputId": "0388a66a-b768-489a-fcf8-ebdb81b68705"
      },
      "execution_count": 15,
      "outputs": [
        {
          "output_type": "execute_result",
          "data": {
            "text/plain": [
              "torch.Size([1, 3, 3])"
            ]
          },
          "metadata": {},
          "execution_count": 15
        }
      ]
    },
    {
      "cell_type": "code",
      "source": [
        "TENSOR[0]"
      ],
      "metadata": {
        "colab": {
          "base_uri": "https://localhost:8080/"
        },
        "id": "j8bA-jNBolga",
        "outputId": "39d8203c-e33b-465b-8281-a9940c5b52c5"
      },
      "execution_count": 16,
      "outputs": [
        {
          "output_type": "execute_result",
          "data": {
            "text/plain": [
              "tensor([[1, 2, 3],\n",
              "        [3, 6, 9],\n",
              "        [2, 4, 5]])"
            ]
          },
          "metadata": {},
          "execution_count": 16
        }
      ]
    },
    {
      "cell_type": "markdown",
      "source": [
        "### Random tensors\n",
        "\n",
        "why random tensors?\n",
        "\n",
        "random tensors are important because the way many neural nets learn is taht they start with full of random numbers and then adjust those random numbers to bettter represent the data\n",
        "\n",
        "start with random numbers- > look at data  ->update random numbers -> look at data -> update random numbers"
      ],
      "metadata": {
        "id": "G04lpXfwpqiS"
      }
    },
    {
      "cell_type": "code",
      "source": [
        "#creating a random tensor\n",
        "random_tensor = torch.rand(3,4)\n",
        "random_tensor"
      ],
      "metadata": {
        "colab": {
          "base_uri": "https://localhost:8080/"
        },
        "id": "KLRd6iCjppDv",
        "outputId": "8397bf73-ddcc-4f55-edf1-a57b2f4593fc"
      },
      "execution_count": 17,
      "outputs": [
        {
          "output_type": "execute_result",
          "data": {
            "text/plain": [
              "tensor([[0.0373, 0.0458, 0.4921, 0.0087],\n",
              "        [0.3929, 0.6702, 0.5880, 0.1888],\n",
              "        [0.7210, 0.4330, 0.7164, 0.7293]])"
            ]
          },
          "metadata": {},
          "execution_count": 17
        }
      ]
    },
    {
      "cell_type": "code",
      "source": [
        "random_tensor.ndim"
      ],
      "metadata": {
        "colab": {
          "base_uri": "https://localhost:8080/"
        },
        "id": "ShO8FB8qqG-8",
        "outputId": "4b640e23-3606-4c43-cc20-9fdbfcfcbae1"
      },
      "execution_count": 18,
      "outputs": [
        {
          "output_type": "execute_result",
          "data": {
            "text/plain": [
              "2"
            ]
          },
          "metadata": {},
          "execution_count": 18
        }
      ]
    },
    {
      "cell_type": "code",
      "source": [
        "#create a trandom tensor with similar shape to an image tensor\n",
        "random_tensor_image = torch.rand(size=(224,224,3))\n",
        "random_tensor_image.shape, random_tensor_image.ndim"
      ],
      "metadata": {
        "colab": {
          "base_uri": "https://localhost:8080/"
        },
        "id": "tEf1BaFyqbWH",
        "outputId": "d3c8247b-5fb6-4418-ca5d-1b3f58748ace"
      },
      "execution_count": 19,
      "outputs": [
        {
          "output_type": "execute_result",
          "data": {
            "text/plain": [
              "(torch.Size([224, 224, 3]), 3)"
            ]
          },
          "metadata": {},
          "execution_count": 19
        }
      ]
    },
    {
      "cell_type": "markdown",
      "source": [
        "### zeros and ones"
      ],
      "metadata": {
        "id": "oty-_GxJrpzO"
      }
    },
    {
      "cell_type": "code",
      "source": [
        "zeros = torch.zeros(size=(3,4))\n",
        "zeros"
      ],
      "metadata": {
        "colab": {
          "base_uri": "https://localhost:8080/"
        },
        "id": "xjrkYsLQrsZE",
        "outputId": "bed4a9f7-13c1-42cf-96c0-9c1c7ba3c349"
      },
      "execution_count": 20,
      "outputs": [
        {
          "output_type": "execute_result",
          "data": {
            "text/plain": [
              "tensor([[0., 0., 0., 0.],\n",
              "        [0., 0., 0., 0.],\n",
              "        [0., 0., 0., 0.]])"
            ]
          },
          "metadata": {},
          "execution_count": 20
        }
      ]
    },
    {
      "cell_type": "code",
      "source": [
        "zeros*random_tensor"
      ],
      "metadata": {
        "colab": {
          "base_uri": "https://localhost:8080/"
        },
        "id": "UsMGhTEhrt_I",
        "outputId": "7a352bcc-e361-4d9b-b189-6b0f62d82eeb"
      },
      "execution_count": 21,
      "outputs": [
        {
          "output_type": "execute_result",
          "data": {
            "text/plain": [
              "tensor([[0., 0., 0., 0.],\n",
              "        [0., 0., 0., 0.],\n",
              "        [0., 0., 0., 0.]])"
            ]
          },
          "metadata": {},
          "execution_count": 21
        }
      ]
    },
    {
      "cell_type": "code",
      "source": [
        "ones = torch.ones(size=(3,4))\n",
        "ones"
      ],
      "metadata": {
        "colab": {
          "base_uri": "https://localhost:8080/"
        },
        "id": "i9E8bIcDrv4n",
        "outputId": "2e8aaba9-349d-4e2b-ba3b-9913520c0096"
      },
      "execution_count": 22,
      "outputs": [
        {
          "output_type": "execute_result",
          "data": {
            "text/plain": [
              "tensor([[1., 1., 1., 1.],\n",
              "        [1., 1., 1., 1.],\n",
              "        [1., 1., 1., 1.]])"
            ]
          },
          "metadata": {},
          "execution_count": 22
        }
      ]
    },
    {
      "cell_type": "code",
      "source": [
        "ones.dtype"
      ],
      "metadata": {
        "colab": {
          "base_uri": "https://localhost:8080/"
        },
        "id": "yuKjbAA6sRRj",
        "outputId": "e965e935-0cb8-49a5-aa84-ba78fe5e200f"
      },
      "execution_count": 23,
      "outputs": [
        {
          "output_type": "execute_result",
          "data": {
            "text/plain": [
              "torch.float32"
            ]
          },
          "metadata": {},
          "execution_count": 23
        }
      ]
    },
    {
      "cell_type": "code",
      "source": [
        "random_tensor.dtype"
      ],
      "metadata": {
        "colab": {
          "base_uri": "https://localhost:8080/"
        },
        "id": "ic9yPxiSsSQD",
        "outputId": "73ec8419-1304-450b-c282-cb50009fd191"
      },
      "execution_count": 24,
      "outputs": [
        {
          "output_type": "execute_result",
          "data": {
            "text/plain": [
              "torch.float32"
            ]
          },
          "metadata": {},
          "execution_count": 24
        }
      ]
    },
    {
      "cell_type": "markdown",
      "source": [
        "## creating a range of tensors and tensors - like"
      ],
      "metadata": {
        "id": "elATndRlszSx"
      }
    },
    {
      "cell_type": "code",
      "source": [
        "#use torch.range()\\\n",
        "one_to_ten = torch.arange(start=1,end=11,step=1)\n",
        "one_to_ten"
      ],
      "metadata": {
        "colab": {
          "base_uri": "https://localhost:8080/"
        },
        "id": "hqxxAPousUAD",
        "outputId": "25f9d29a-c147-459c-c6d0-43e4f140f92c"
      },
      "execution_count": 25,
      "outputs": [
        {
          "output_type": "execute_result",
          "data": {
            "text/plain": [
              "tensor([ 1,  2,  3,  4,  5,  6,  7,  8,  9, 10])"
            ]
          },
          "metadata": {},
          "execution_count": 25
        }
      ]
    },
    {
      "cell_type": "code",
      "source": [
        "#creting tensors like\n",
        "ten_zeros = torch.zeros_like(input=one_to_ten)\n",
        "ten_zeros"
      ],
      "metadata": {
        "colab": {
          "base_uri": "https://localhost:8080/"
        },
        "id": "KA63Fgdps9vZ",
        "outputId": "1eaf914a-3b5d-435b-f78c-ae0c1217d6a9"
      },
      "execution_count": 26,
      "outputs": [
        {
          "output_type": "execute_result",
          "data": {
            "text/plain": [
              "tensor([0, 0, 0, 0, 0, 0, 0, 0, 0, 0])"
            ]
          },
          "metadata": {},
          "execution_count": 26
        }
      ]
    },
    {
      "cell_type": "markdown",
      "source": [
        "##tensor datatypes\n",
        "\n",
        "tensor datatypes is one of the 3 big errors you'll run into with pytorch and deep learning\n",
        "1. tensors not right datatyep\n",
        "2. tensors not eright shape\n",
        "3. tensors not on the right device"
      ],
      "metadata": {
        "id": "bXrB54W8tzva"
      }
    },
    {
      "cell_type": "code",
      "source": [
        "#float 32 tensor\n",
        "float_32_tensor = torch.tensor([3.0,6.0,9.0],\n",
        "                               dtype=None, #what datatype is the tenspr\n",
        "                               device=None, #\n",
        "                               requires_grad=False)\n",
        "float_32_tensor"
      ],
      "metadata": {
        "colab": {
          "base_uri": "https://localhost:8080/"
        },
        "id": "GWNtniIvtOPR",
        "outputId": "c1f1c704-2c09-41d1-a9d2-bb74f8f6f00e"
      },
      "execution_count": 27,
      "outputs": [
        {
          "output_type": "execute_result",
          "data": {
            "text/plain": [
              "tensor([3., 6., 9.])"
            ]
          },
          "metadata": {},
          "execution_count": 27
        }
      ]
    },
    {
      "cell_type": "code",
      "source": [
        "float_32_tensor.dtype"
      ],
      "metadata": {
        "colab": {
          "base_uri": "https://localhost:8080/"
        },
        "id": "XtkPhRvVt6Om",
        "outputId": "38bd2d61-85f2-47d5-f064-12a62857f760"
      },
      "execution_count": 28,
      "outputs": [
        {
          "output_type": "execute_result",
          "data": {
            "text/plain": [
              "torch.float32"
            ]
          },
          "metadata": {},
          "execution_count": 28
        }
      ]
    },
    {
      "cell_type": "code",
      "source": [
        "float_16_tensor = float_32_tensor.type(torch.float16)\n",
        "float_16_tensor"
      ],
      "metadata": {
        "colab": {
          "base_uri": "https://localhost:8080/"
        },
        "id": "GWoiUoLzuBJm",
        "outputId": "eb9949c2-506f-48fe-b066-f424ece193de"
      },
      "execution_count": 29,
      "outputs": [
        {
          "output_type": "execute_result",
          "data": {
            "text/plain": [
              "tensor([3., 6., 9.], dtype=torch.float16)"
            ]
          },
          "metadata": {},
          "execution_count": 29
        }
      ]
    },
    {
      "cell_type": "code",
      "source": [
        "float_16_tensor * float_32_tensor"
      ],
      "metadata": {
        "colab": {
          "base_uri": "https://localhost:8080/"
        },
        "id": "5ybfNNI3vnBA",
        "outputId": "622ea463-1156-4b04-b263-d81efea8103f"
      },
      "execution_count": 30,
      "outputs": [
        {
          "output_type": "execute_result",
          "data": {
            "text/plain": [
              "tensor([ 9., 36., 81.])"
            ]
          },
          "metadata": {},
          "execution_count": 30
        }
      ]
    },
    {
      "cell_type": "code",
      "source": [
        "int_32_tensor = torch.tensor([3,6,9], dtype=torch.int32)\n",
        "int_32_tensor"
      ],
      "metadata": {
        "colab": {
          "base_uri": "https://localhost:8080/"
        },
        "id": "tU6rYPADv7nj",
        "outputId": "4d5cdd57-8abc-4276-a755-29233e303440"
      },
      "execution_count": 31,
      "outputs": [
        {
          "output_type": "execute_result",
          "data": {
            "text/plain": [
              "tensor([3, 6, 9], dtype=torch.int32)"
            ]
          },
          "metadata": {},
          "execution_count": 31
        }
      ]
    },
    {
      "cell_type": "code",
      "source": [
        "float_32_tensor * int_32_tensor"
      ],
      "metadata": {
        "colab": {
          "base_uri": "https://localhost:8080/"
        },
        "id": "sM0mxpvPxCoE",
        "outputId": "0fa7eb4a-0d35-446d-fb7e-f46dac2f9d13"
      },
      "execution_count": 32,
      "outputs": [
        {
          "output_type": "execute_result",
          "data": {
            "text/plain": [
              "tensor([ 9., 36., 81.])"
            ]
          },
          "metadata": {},
          "execution_count": 32
        }
      ]
    },
    {
      "cell_type": "markdown",
      "source": [
        "### getting info from tensors (tensor attributes)\n",
        "\n",
        "1. tensors not right datatyep - use 'tensor.dtype'\n",
        "2. tensors not eright shape - use 'tensor.shape'\n",
        "3. tensors not on the right device - use 'tensor.device'"
      ],
      "metadata": {
        "id": "IU85G5nDxSWM"
      }
    },
    {
      "cell_type": "markdown",
      "source": [
        "### Manipulating Tensors (tensor operations)\n",
        "\n",
        "tensor operations include :\n",
        "* addition\n",
        "* subtraction\n",
        "* multiplication\n",
        "* division\n",
        "* matrix multiplication"
      ],
      "metadata": {
        "id": "M0W1MIOV2oSt"
      }
    },
    {
      "cell_type": "code",
      "source": [
        "#create a tensor\n",
        "tensor = torch.tensor([1,2,3])\n",
        "\n",
        "tensor+10"
      ],
      "metadata": {
        "id": "wsyeND3t2tu5",
        "outputId": "321f05ae-d4e4-4e2d-c302-a732e0cb94fa",
        "colab": {
          "base_uri": "https://localhost:8080/"
        }
      },
      "execution_count": 33,
      "outputs": [
        {
          "output_type": "execute_result",
          "data": {
            "text/plain": [
              "tensor([11, 12, 13])"
            ]
          },
          "metadata": {},
          "execution_count": 33
        }
      ]
    },
    {
      "cell_type": "code",
      "source": [
        "tensor*3"
      ],
      "metadata": {
        "id": "nzqRnVCo3BbE",
        "outputId": "0eb07a07-a4b4-4e37-d099-6aeb3575c74b",
        "colab": {
          "base_uri": "https://localhost:8080/"
        }
      },
      "execution_count": 34,
      "outputs": [
        {
          "output_type": "execute_result",
          "data": {
            "text/plain": [
              "tensor([3, 6, 9])"
            ]
          },
          "metadata": {},
          "execution_count": 34
        }
      ]
    },
    {
      "cell_type": "code",
      "source": [
        "tensor - 1010"
      ],
      "metadata": {
        "id": "hRNBvQhP3EyS",
        "outputId": "ce46d4ce-fb03-4fe7-f073-c173796ace9d",
        "colab": {
          "base_uri": "https://localhost:8080/"
        }
      },
      "execution_count": 35,
      "outputs": [
        {
          "output_type": "execute_result",
          "data": {
            "text/plain": [
              "tensor([-1009, -1008, -1007])"
            ]
          },
          "metadata": {},
          "execution_count": 35
        }
      ]
    },
    {
      "cell_type": "code",
      "source": [
        "torch.mul(tensor, 10)"
      ],
      "metadata": {
        "id": "97uSWbm-3ThV",
        "outputId": "989a3e02-6d3b-4d9e-9ecf-a4ff11010a1a",
        "colab": {
          "base_uri": "https://localhost:8080/"
        }
      },
      "execution_count": 36,
      "outputs": [
        {
          "output_type": "execute_result",
          "data": {
            "text/plain": [
              "tensor([10, 20, 30])"
            ]
          },
          "metadata": {},
          "execution_count": 36
        }
      ]
    },
    {
      "cell_type": "code",
      "source": [
        "torch.add(tensor, 100000)"
      ],
      "metadata": {
        "id": "c2cKDgRO3aBm",
        "outputId": "895fea0c-ef04-4936-afa7-6e661d66f52e",
        "colab": {
          "base_uri": "https://localhost:8080/"
        }
      },
      "execution_count": 37,
      "outputs": [
        {
          "output_type": "execute_result",
          "data": {
            "text/plain": [
              "tensor([100001, 100002, 100003])"
            ]
          },
          "metadata": {},
          "execution_count": 37
        }
      ]
    },
    {
      "cell_type": "markdown",
      "source": [
        "###matrix multiplication\n",
        "\n",
        "two main methods of performing multiplication in neural netrs and DL\n",
        "1. element wise\n",
        "2. matrix multipliaction (dot product)\n"
      ],
      "metadata": {
        "id": "MMdpQ0pS492i"
      }
    },
    {
      "cell_type": "code",
      "source": [
        "# element wise multiplication\n",
        "print(tensor, \"*\", tensor)\n",
        "print(f\"equals: {tensor*tensor}\")"
      ],
      "metadata": {
        "id": "MavvmUas5ZeU",
        "outputId": "5f7fcc2f-d3aa-4929-d585-e695db4dc27b",
        "colab": {
          "base_uri": "https://localhost:8080/"
        }
      },
      "execution_count": 38,
      "outputs": [
        {
          "output_type": "stream",
          "name": "stdout",
          "text": [
            "tensor([1, 2, 3]) * tensor([1, 2, 3])\n",
            "equals: tensor([1, 4, 9])\n"
          ]
        }
      ]
    },
    {
      "cell_type": "code",
      "source": [
        "# matrix multiplication\n",
        "torch.matmul(tensor, tensor)"
      ],
      "metadata": {
        "id": "dHGXROik5eJc",
        "outputId": "f21ec2be-674f-4340-821e-6ba45be409d5",
        "colab": {
          "base_uri": "https://localhost:8080/"
        }
      },
      "execution_count": 39,
      "outputs": [
        {
          "output_type": "execute_result",
          "data": {
            "text/plain": [
              "tensor(14)"
            ]
          },
          "metadata": {},
          "execution_count": 39
        }
      ]
    },
    {
      "cell_type": "code",
      "source": [
        "# matrix multplication by hand\n",
        "1*1 + 2*2+ 3*3"
      ],
      "metadata": {
        "id": "CSDxmBou5nFP",
        "outputId": "5ead2a64-c69c-414a-f491-b3549c7f9bce",
        "colab": {
          "base_uri": "https://localhost:8080/"
        }
      },
      "execution_count": 40,
      "outputs": [
        {
          "output_type": "execute_result",
          "data": {
            "text/plain": [
              "14"
            ]
          },
          "metadata": {},
          "execution_count": 40
        }
      ]
    },
    {
      "cell_type": "markdown",
      "source": [
        "### one of the most common errors in matmul are shape errrors\n",
        "\n",
        "there are two main rules that performing matrix multi need to satisfy\n",
        "1. the inner dimensions must match\n",
        "* (3,2) @ (3,2) won't work\n",
        "* (2,3) @ (3,2) will work\n",
        "* (3,2) @ (2,3) will work\n",
        "\n",
        "2. the resulting matrix has the shape of the outer dimensions\n",
        "* `(2,3) @ (3,2)` => (2,2)\n",
        "* `(3,2) @ (2,3)` -> (3,3)\n"
      ],
      "metadata": {
        "id": "EVryAzt47Kli"
      }
    },
    {
      "cell_type": "code",
      "source": [
        "#shapes for matrix multiplication\n",
        "\n",
        "tensor_A = torch.tensor([[1,2],\n",
        "                         [3,4],\n",
        "                         [5,6]])\n",
        "tensor_B = torch.tensor([[7,10],\n",
        "                         [8,11],\n",
        "                         [9,12]])"
      ],
      "metadata": {
        "id": "WBrdbMpd53oF"
      },
      "execution_count": 41,
      "outputs": []
    },
    {
      "cell_type": "code",
      "source": [
        "torch.matmul(tensor_A, tensor_B.T)"
      ],
      "metadata": {
        "id": "lajA4OAX6-YM",
        "outputId": "1431930e-5909-4071-9ffa-95fce3d4986a",
        "colab": {
          "base_uri": "https://localhost:8080/"
        }
      },
      "execution_count": 42,
      "outputs": [
        {
          "output_type": "execute_result",
          "data": {
            "text/plain": [
              "tensor([[ 27,  30,  33],\n",
              "        [ 61,  68,  75],\n",
              "        [ 95, 106, 117]])"
            ]
          },
          "metadata": {},
          "execution_count": 42
        }
      ]
    },
    {
      "cell_type": "markdown",
      "source": [
        "### finding the min, max, mean, sum, etc (tensor aggregation)"
      ],
      "metadata": {
        "id": "qmJzEJQk_5ns"
      }
    },
    {
      "cell_type": "code",
      "source": [
        "x = torch.arange(0,100, 10)"
      ],
      "metadata": {
        "id": "EmXC07ha_5Uz"
      },
      "execution_count": 43,
      "outputs": []
    },
    {
      "cell_type": "code",
      "source": [
        "x"
      ],
      "metadata": {
        "id": "2nt-fat9AHZP",
        "outputId": "85095a02-d1e2-472c-d223-6b8e20f18f51",
        "colab": {
          "base_uri": "https://localhost:8080/"
        }
      },
      "execution_count": 44,
      "outputs": [
        {
          "output_type": "execute_result",
          "data": {
            "text/plain": [
              "tensor([ 0, 10, 20, 30, 40, 50, 60, 70, 80, 90])"
            ]
          },
          "metadata": {},
          "execution_count": 44
        }
      ]
    },
    {
      "cell_type": "code",
      "source": [
        "#find the min\n",
        "torch.min(x), x.min()"
      ],
      "metadata": {
        "id": "HfRZqRfiAIAn",
        "outputId": "6998d717-4d87-4bc5-b6b3-4a804649841b",
        "colab": {
          "base_uri": "https://localhost:8080/"
        }
      },
      "execution_count": 45,
      "outputs": [
        {
          "output_type": "execute_result",
          "data": {
            "text/plain": [
              "(tensor(0), tensor(0))"
            ]
          },
          "metadata": {},
          "execution_count": 45
        }
      ]
    },
    {
      "cell_type": "code",
      "source": [
        "torch.max(x), x.max()"
      ],
      "metadata": {
        "id": "E7WuB-CHALaH",
        "outputId": "97c7d19e-5ee7-4323-fe44-14e0f3ed8dee",
        "colab": {
          "base_uri": "https://localhost:8080/"
        }
      },
      "execution_count": 46,
      "outputs": [
        {
          "output_type": "execute_result",
          "data": {
            "text/plain": [
              "(tensor(90), tensor(90))"
            ]
          },
          "metadata": {},
          "execution_count": 46
        }
      ]
    },
    {
      "cell_type": "code",
      "source": [
        "#find the mean\n",
        "torch.mean(x.type(torch.float32))"
      ],
      "metadata": {
        "id": "V_lD76hWAOvf",
        "outputId": "135411f8-c360-4da6-dd7e-273b24e2aaf4",
        "colab": {
          "base_uri": "https://localhost:8080/"
        }
      },
      "execution_count": 47,
      "outputs": [
        {
          "output_type": "execute_result",
          "data": {
            "text/plain": [
              "tensor(45.)"
            ]
          },
          "metadata": {},
          "execution_count": 47
        }
      ]
    },
    {
      "cell_type": "code",
      "source": [
        "x.type(torch.float32).mean()"
      ],
      "metadata": {
        "id": "ojLtQra8AjJ6",
        "outputId": "f3fe221b-c610-41b3-c4f0-e2b918e20788",
        "colab": {
          "base_uri": "https://localhost:8080/"
        }
      },
      "execution_count": 48,
      "outputs": [
        {
          "output_type": "execute_result",
          "data": {
            "text/plain": [
              "tensor(45.)"
            ]
          },
          "metadata": {},
          "execution_count": 48
        }
      ]
    },
    {
      "cell_type": "code",
      "source": [
        "x.sum()"
      ],
      "metadata": {
        "id": "nIcmOQQiAy1D",
        "outputId": "bdb71c32-d19e-4f37-9dc0-778ef7e500f5",
        "colab": {
          "base_uri": "https://localhost:8080/"
        }
      },
      "execution_count": 49,
      "outputs": [
        {
          "output_type": "execute_result",
          "data": {
            "text/plain": [
              "tensor(450)"
            ]
          },
          "metadata": {},
          "execution_count": 49
        }
      ]
    },
    {
      "cell_type": "code",
      "source": [
        "torch.sum(x)"
      ],
      "metadata": {
        "id": "TW8c5YcNA7a0",
        "outputId": "e86adfc7-e40a-40f4-b407-f4d6a8d43bb0",
        "colab": {
          "base_uri": "https://localhost:8080/"
        }
      },
      "execution_count": 50,
      "outputs": [
        {
          "output_type": "execute_result",
          "data": {
            "text/plain": [
              "tensor(450)"
            ]
          },
          "metadata": {},
          "execution_count": 50
        }
      ]
    },
    {
      "cell_type": "markdown",
      "source": [
        "### finding the positional min and max"
      ],
      "metadata": {
        "id": "S89q0oZdBVEm"
      }
    },
    {
      "cell_type": "code",
      "source": [
        "#find the psoition in tensor that has the minimum value with argmin() -=> returns the index position of target tensor where the minimum value occurs\n",
        "x.argmin()"
      ],
      "metadata": {
        "id": "oqg1tpOVA9Fr",
        "outputId": "0137070d-9ca5-42e6-c0ea-3a73d5334162",
        "colab": {
          "base_uri": "https://localhost:8080/"
        }
      },
      "execution_count": 51,
      "outputs": [
        {
          "output_type": "execute_result",
          "data": {
            "text/plain": [
              "tensor(0)"
            ]
          },
          "metadata": {},
          "execution_count": 51
        }
      ]
    },
    {
      "cell_type": "code",
      "source": [
        "x.argmax()"
      ],
      "metadata": {
        "id": "Kf8xcPvjBiFI",
        "outputId": "45d50dfd-2d92-470d-ecae-361cf9336927",
        "colab": {
          "base_uri": "https://localhost:8080/"
        }
      },
      "execution_count": 52,
      "outputs": [
        {
          "output_type": "execute_result",
          "data": {
            "text/plain": [
              "tensor(9)"
            ]
          },
          "metadata": {},
          "execution_count": 52
        }
      ]
    },
    {
      "cell_type": "markdown",
      "source": [
        "## reshaping, stacking, squeezing and unsqueezing tensors\n",
        "* reshapeing = reshapes an input tensor to a defined shape\n",
        "* view = return a view of an input tensor but keep the same memory as the original tensor\n",
        "*  stacking - combine multiple tensors on top of each other (v stack) and (h stack)\n",
        "* squeeze = remves all '1' dimension from a tensor\n",
        "* unsqueez = add a '1' dimension to a taregt tensor\n",
        "* permute = return a view of the input with dimensions permuted (swapped) in a certain way"
      ],
      "metadata": {
        "id": "YVz-my-CCeYC"
      }
    },
    {
      "cell_type": "code",
      "source": [
        "x = torch.arange(1., 10.)"
      ],
      "metadata": {
        "id": "xRWn77WeCDW8"
      },
      "execution_count": 53,
      "outputs": []
    },
    {
      "cell_type": "code",
      "source": [
        "x, x.shape"
      ],
      "metadata": {
        "id": "Jh7buvqtDNQo",
        "outputId": "95a6ff45-e7be-493b-ae6a-a79948f07246",
        "colab": {
          "base_uri": "https://localhost:8080/"
        }
      },
      "execution_count": 54,
      "outputs": [
        {
          "output_type": "execute_result",
          "data": {
            "text/plain": [
              "(tensor([1., 2., 3., 4., 5., 6., 7., 8., 9.]), torch.Size([9]))"
            ]
          },
          "metadata": {},
          "execution_count": 54
        }
      ]
    },
    {
      "cell_type": "code",
      "source": [
        "# add an extra dimension\n",
        "x_reshaped = x.reshape(1,9)\n",
        "x_reshaped, x_reshaped.shape"
      ],
      "metadata": {
        "id": "8slh1hvFDPk7",
        "outputId": "656c8962-3d95-483c-da7c-8530f4b450c6",
        "colab": {
          "base_uri": "https://localhost:8080/"
        }
      },
      "execution_count": 55,
      "outputs": [
        {
          "output_type": "execute_result",
          "data": {
            "text/plain": [
              "(tensor([[1., 2., 3., 4., 5., 6., 7., 8., 9.]]), torch.Size([1, 9]))"
            ]
          },
          "metadata": {},
          "execution_count": 55
        }
      ]
    },
    {
      "cell_type": "code",
      "source": [
        "# change the view\n",
        "z = x.view(1,9)\n",
        "z, z.shape"
      ],
      "metadata": {
        "id": "YoQkPQQnDWU1",
        "outputId": "4eb7e639-e433-4125-ced1-154bc617fa94",
        "colab": {
          "base_uri": "https://localhost:8080/"
        }
      },
      "execution_count": 56,
      "outputs": [
        {
          "output_type": "execute_result",
          "data": {
            "text/plain": [
              "(tensor([[1., 2., 3., 4., 5., 6., 7., 8., 9.]]), torch.Size([1, 9]))"
            ]
          },
          "metadata": {},
          "execution_count": 56
        }
      ]
    },
    {
      "cell_type": "code",
      "source": [
        "#changing z changes x because the view of a tensor shares the asame memory ass the tensor)\n",
        "z[:, 0] = 5\n",
        "z, x"
      ],
      "metadata": {
        "id": "mc5pArb5ECf4",
        "outputId": "a8bd0a27-d6e9-4ad3-aed5-f11109082350",
        "colab": {
          "base_uri": "https://localhost:8080/"
        }
      },
      "execution_count": 57,
      "outputs": [
        {
          "output_type": "execute_result",
          "data": {
            "text/plain": [
              "(tensor([[5., 2., 3., 4., 5., 6., 7., 8., 9.]]),\n",
              " tensor([5., 2., 3., 4., 5., 6., 7., 8., 9.]))"
            ]
          },
          "metadata": {},
          "execution_count": 57
        }
      ]
    },
    {
      "cell_type": "code",
      "source": [
        "#stack tensors on top of each other\n",
        "x_stacked = torch.stack([x,x,x,x], dim=0)\n",
        "x_stacked"
      ],
      "metadata": {
        "id": "HJhQz1rDEQKa",
        "outputId": "dde82f96-edcc-4ccb-ebe5-dc0ee10e2bde",
        "colab": {
          "base_uri": "https://localhost:8080/"
        }
      },
      "execution_count": 58,
      "outputs": [
        {
          "output_type": "execute_result",
          "data": {
            "text/plain": [
              "tensor([[5., 2., 3., 4., 5., 6., 7., 8., 9.],\n",
              "        [5., 2., 3., 4., 5., 6., 7., 8., 9.],\n",
              "        [5., 2., 3., 4., 5., 6., 7., 8., 9.],\n",
              "        [5., 2., 3., 4., 5., 6., 7., 8., 9.]])"
            ]
          },
          "metadata": {},
          "execution_count": 58
        }
      ]
    },
    {
      "cell_type": "code",
      "source": [
        "x_reshaped.shape"
      ],
      "metadata": {
        "id": "PUUg_5j5EcRz",
        "outputId": "1338e25c-e885-47b7-ead7-e73381247e38",
        "colab": {
          "base_uri": "https://localhost:8080/"
        }
      },
      "execution_count": 59,
      "outputs": [
        {
          "output_type": "execute_result",
          "data": {
            "text/plain": [
              "torch.Size([1, 9])"
            ]
          },
          "metadata": {},
          "execution_count": 59
        }
      ]
    },
    {
      "cell_type": "code",
      "source": [
        "x_reshaped.squeeze()"
      ],
      "metadata": {
        "id": "DJ1nDhVTGfxR",
        "outputId": "395af5bc-f61b-44ed-fdd9-f32afc9ac111",
        "colab": {
          "base_uri": "https://localhost:8080/"
        }
      },
      "execution_count": 60,
      "outputs": [
        {
          "output_type": "execute_result",
          "data": {
            "text/plain": [
              "tensor([5., 2., 3., 4., 5., 6., 7., 8., 9.])"
            ]
          },
          "metadata": {},
          "execution_count": 60
        }
      ]
    },
    {
      "cell_type": "code",
      "source": [
        "x_reshaped.squeeze().shape"
      ],
      "metadata": {
        "id": "bbe17potGjF6",
        "outputId": "e148b1b0-cd2b-4d63-fffc-4e93b6a6bbc6",
        "colab": {
          "base_uri": "https://localhost:8080/"
        }
      },
      "execution_count": 61,
      "outputs": [
        {
          "output_type": "execute_result",
          "data": {
            "text/plain": [
              "torch.Size([9])"
            ]
          },
          "metadata": {},
          "execution_count": 61
        }
      ]
    },
    {
      "cell_type": "code",
      "source": [
        "x_unsqueezed = x_reshaped.squeeze()\n",
        "x_unsqueezed"
      ],
      "metadata": {
        "id": "jO77lZlgGnna",
        "outputId": "7a6a1281-b7ee-4d97-9f3e-91c5f069dc86",
        "colab": {
          "base_uri": "https://localhost:8080/"
        }
      },
      "execution_count": 63,
      "outputs": [
        {
          "output_type": "execute_result",
          "data": {
            "text/plain": [
              "tensor([5., 2., 3., 4., 5., 6., 7., 8., 9.])"
            ]
          },
          "metadata": {},
          "execution_count": 63
        }
      ]
    },
    {
      "cell_type": "code",
      "source": [
        "x_original = torch.rand(size=(224,224,3))\n",
        "x_original"
      ],
      "metadata": {
        "id": "8KM0aVggtXET",
        "outputId": "a6f041a0-70f1-4bfe-9a2f-5a46420ee082",
        "colab": {
          "base_uri": "https://localhost:8080/"
        }
      },
      "execution_count": 64,
      "outputs": [
        {
          "output_type": "execute_result",
          "data": {
            "text/plain": [
              "tensor([[[0.6369, 0.4222, 0.2941],\n",
              "         [0.6526, 0.3134, 0.9695],\n",
              "         [0.9694, 0.6775, 0.1666],\n",
              "         ...,\n",
              "         [0.0311, 0.9517, 0.3650],\n",
              "         [0.3496, 0.2297, 0.4944],\n",
              "         [0.2863, 0.8659, 0.1013]],\n",
              "\n",
              "        [[0.9155, 0.9070, 0.6665],\n",
              "         [0.4277, 0.9907, 0.6521],\n",
              "         [0.9139, 0.8346, 0.3976],\n",
              "         ...,\n",
              "         [0.9647, 0.3504, 0.5479],\n",
              "         [0.2974, 0.0883, 0.6684],\n",
              "         [0.8666, 0.0322, 0.3050]],\n",
              "\n",
              "        [[0.2903, 0.4201, 0.3487],\n",
              "         [0.7341, 0.3098, 0.4565],\n",
              "         [0.6549, 0.0690, 0.5373],\n",
              "         ...,\n",
              "         [0.8253, 0.3940, 0.1858],\n",
              "         [0.9025, 0.3877, 0.3954],\n",
              "         [0.0685, 0.4892, 0.6893]],\n",
              "\n",
              "        ...,\n",
              "\n",
              "        [[0.6543, 0.3962, 0.3148],\n",
              "         [0.1163, 0.8876, 0.2237],\n",
              "         [0.4352, 0.8419, 0.0944],\n",
              "         ...,\n",
              "         [0.2310, 0.4670, 0.7453],\n",
              "         [0.2850, 0.4327, 0.2580],\n",
              "         [0.6955, 0.7996, 0.4064]],\n",
              "\n",
              "        [[0.2036, 0.6802, 0.1925],\n",
              "         [0.1907, 0.6326, 0.0886],\n",
              "         [0.1242, 0.5546, 0.4903],\n",
              "         ...,\n",
              "         [0.2584, 0.2865, 0.4539],\n",
              "         [0.3671, 0.2119, 0.1785],\n",
              "         [0.2053, 0.3259, 0.1944]],\n",
              "\n",
              "        [[0.5920, 0.7024, 0.5444],\n",
              "         [0.5541, 0.2323, 0.5823],\n",
              "         [0.7334, 0.8907, 0.2691],\n",
              "         ...,\n",
              "         [0.2734, 0.0856, 0.6151],\n",
              "         [0.7176, 0.3654, 0.6657],\n",
              "         [0.7598, 0.6109, 0.7621]]])"
            ]
          },
          "metadata": {},
          "execution_count": 64
        }
      ]
    },
    {
      "cell_type": "code",
      "source": [
        "x_permuted = x_original.permute(2,0,1)\n",
        "x_permuted"
      ],
      "metadata": {
        "id": "V1hVG91btaGU",
        "outputId": "ace86c02-d0d2-45e0-c2b1-0b990c86e3b8",
        "colab": {
          "base_uri": "https://localhost:8080/"
        }
      },
      "execution_count": 65,
      "outputs": [
        {
          "output_type": "execute_result",
          "data": {
            "text/plain": [
              "tensor([[[0.6369, 0.6526, 0.9694,  ..., 0.0311, 0.3496, 0.2863],\n",
              "         [0.9155, 0.4277, 0.9139,  ..., 0.9647, 0.2974, 0.8666],\n",
              "         [0.2903, 0.7341, 0.6549,  ..., 0.8253, 0.9025, 0.0685],\n",
              "         ...,\n",
              "         [0.6543, 0.1163, 0.4352,  ..., 0.2310, 0.2850, 0.6955],\n",
              "         [0.2036, 0.1907, 0.1242,  ..., 0.2584, 0.3671, 0.2053],\n",
              "         [0.5920, 0.5541, 0.7334,  ..., 0.2734, 0.7176, 0.7598]],\n",
              "\n",
              "        [[0.4222, 0.3134, 0.6775,  ..., 0.9517, 0.2297, 0.8659],\n",
              "         [0.9070, 0.9907, 0.8346,  ..., 0.3504, 0.0883, 0.0322],\n",
              "         [0.4201, 0.3098, 0.0690,  ..., 0.3940, 0.3877, 0.4892],\n",
              "         ...,\n",
              "         [0.3962, 0.8876, 0.8419,  ..., 0.4670, 0.4327, 0.7996],\n",
              "         [0.6802, 0.6326, 0.5546,  ..., 0.2865, 0.2119, 0.3259],\n",
              "         [0.7024, 0.2323, 0.8907,  ..., 0.0856, 0.3654, 0.6109]],\n",
              "\n",
              "        [[0.2941, 0.9695, 0.1666,  ..., 0.3650, 0.4944, 0.1013],\n",
              "         [0.6665, 0.6521, 0.3976,  ..., 0.5479, 0.6684, 0.3050],\n",
              "         [0.3487, 0.4565, 0.5373,  ..., 0.1858, 0.3954, 0.6893],\n",
              "         ...,\n",
              "         [0.3148, 0.2237, 0.0944,  ..., 0.7453, 0.2580, 0.4064],\n",
              "         [0.1925, 0.0886, 0.4903,  ..., 0.4539, 0.1785, 0.1944],\n",
              "         [0.5444, 0.5823, 0.2691,  ..., 0.6151, 0.6657, 0.7621]]])"
            ]
          },
          "metadata": {},
          "execution_count": 65
        }
      ]
    },
    {
      "cell_type": "code",
      "source": [
        "x_permuted.shape"
      ],
      "metadata": {
        "id": "cZJsUqF5tens",
        "outputId": "b9a436bc-2ea0-4d70-9beb-0d95a31098b0",
        "colab": {
          "base_uri": "https://localhost:8080/"
        }
      },
      "execution_count": 66,
      "outputs": [
        {
          "output_type": "execute_result",
          "data": {
            "text/plain": [
              "torch.Size([3, 224, 224])"
            ]
          },
          "metadata": {},
          "execution_count": 66
        }
      ]
    },
    {
      "cell_type": "markdown",
      "source": [
        "### indexing (selectoing data from tensors)\n",
        "\n",
        "indexing with pytorch is similar to indexing with numpy"
      ],
      "metadata": {
        "id": "NYdzYjN9uVCD"
      }
    },
    {
      "cell_type": "code",
      "source": [
        "x = torch.arange (1,10).reshape(1,3,3)\n",
        "x, x.shape"
      ],
      "metadata": {
        "id": "_PgugFSJudjT",
        "outputId": "fb25d39c-644b-4884-8a77-422c0608fc45",
        "colab": {
          "base_uri": "https://localhost:8080/"
        }
      },
      "execution_count": 67,
      "outputs": [
        {
          "output_type": "execute_result",
          "data": {
            "text/plain": [
              "(tensor([[[1, 2, 3],\n",
              "          [4, 5, 6],\n",
              "          [7, 8, 9]]]),\n",
              " torch.Size([1, 3, 3]))"
            ]
          },
          "metadata": {},
          "execution_count": 67
        }
      ]
    },
    {
      "cell_type": "code",
      "source": [
        "x[0]"
      ],
      "metadata": {
        "id": "iNkkXw6PvHwA",
        "outputId": "657caf0c-caac-4de0-cb0d-06bcfe37970e",
        "colab": {
          "base_uri": "https://localhost:8080/"
        }
      },
      "execution_count": 68,
      "outputs": [
        {
          "output_type": "execute_result",
          "data": {
            "text/plain": [
              "tensor([[1, 2, 3],\n",
              "        [4, 5, 6],\n",
              "        [7, 8, 9]])"
            ]
          },
          "metadata": {},
          "execution_count": 68
        }
      ]
    },
    {
      "cell_type": "code",
      "source": [
        "x[0][0]"
      ],
      "metadata": {
        "id": "FZQ_9MLNvMvg",
        "outputId": "4d0908bf-aa76-499e-b87a-ce2179e31c3f",
        "colab": {
          "base_uri": "https://localhost:8080/"
        }
      },
      "execution_count": 69,
      "outputs": [
        {
          "output_type": "execute_result",
          "data": {
            "text/plain": [
              "tensor([1, 2, 3])"
            ]
          },
          "metadata": {},
          "execution_count": 69
        }
      ]
    },
    {
      "cell_type": "code",
      "source": [
        "x[0][0][0]"
      ],
      "metadata": {
        "id": "6gwjAsEsvUNp",
        "outputId": "0879a420-6ed3-4c53-e8f5-6f5671c00c8a",
        "colab": {
          "base_uri": "https://localhost:8080/"
        }
      },
      "execution_count": 70,
      "outputs": [
        {
          "output_type": "execute_result",
          "data": {
            "text/plain": [
              "tensor(1)"
            ]
          },
          "metadata": {},
          "execution_count": 70
        }
      ]
    },
    {
      "cell_type": "code",
      "source": [
        "x[0][1][1]"
      ],
      "metadata": {
        "id": "3ruAUCKDvb6B",
        "outputId": "9557f58a-61e0-4e42-8700-d033016429f3",
        "colab": {
          "base_uri": "https://localhost:8080/"
        }
      },
      "execution_count": 72,
      "outputs": [
        {
          "output_type": "execute_result",
          "data": {
            "text/plain": [
              "tensor(5)"
            ]
          },
          "metadata": {},
          "execution_count": 72
        }
      ]
    },
    {
      "cell_type": "code",
      "source": [
        "x[:, 0]"
      ],
      "metadata": {
        "id": "CSqPx6EavjXi",
        "outputId": "59c05b5c-87cc-4b43-e566-bb1f30430edc",
        "colab": {
          "base_uri": "https://localhost:8080/"
        }
      },
      "execution_count": 73,
      "outputs": [
        {
          "output_type": "execute_result",
          "data": {
            "text/plain": [
              "tensor([[1, 2, 3]])"
            ]
          },
          "metadata": {},
          "execution_count": 73
        }
      ]
    },
    {
      "cell_type": "code",
      "source": [
        "x[:,:,1]"
      ],
      "metadata": {
        "id": "1xNBTZiEvu9a",
        "outputId": "6e5334b2-46a0-4259-878b-34bed3a7e349",
        "colab": {
          "base_uri": "https://localhost:8080/"
        }
      },
      "execution_count": 74,
      "outputs": [
        {
          "output_type": "execute_result",
          "data": {
            "text/plain": [
              "tensor([[2, 5, 8]])"
            ]
          },
          "metadata": {},
          "execution_count": 74
        }
      ]
    },
    {
      "cell_type": "markdown",
      "source": [
        "## pytorch tensors & numpy\n",
        "\n",
        "* data in numpy but want in pytorch tensor -> torch.from_numpy(ndarray)\n",
        "* pytorch tensor -> numpy -> torch.tensor.numpy()"
      ],
      "metadata": {
        "id": "z9sCRWL6wuM1"
      }
    },
    {
      "cell_type": "code",
      "source": [
        "array = np.arange(1.0, 8.0)\n",
        "tensor = torch.from_numpy(array)\n",
        "array, tensor"
      ],
      "metadata": {
        "id": "vaAe0XQzxIZD",
        "outputId": "a3b5720e-d43e-4b6c-fdba-fb91259c2ce8",
        "colab": {
          "base_uri": "https://localhost:8080/"
        }
      },
      "execution_count": 75,
      "outputs": [
        {
          "output_type": "execute_result",
          "data": {
            "text/plain": [
              "(array([1., 2., 3., 4., 5., 6., 7.]),\n",
              " tensor([1., 2., 3., 4., 5., 6., 7.], dtype=torch.float64))"
            ]
          },
          "metadata": {},
          "execution_count": 75
        }
      ]
    },
    {
      "cell_type": "code",
      "source": [
        "array = array + 1\n",
        "array, tensor"
      ],
      "metadata": {
        "id": "AbXSD-WdxQXF",
        "outputId": "9ebf8e7e-77e0-432c-c74f-4b7f5f89849e",
        "colab": {
          "base_uri": "https://localhost:8080/"
        }
      },
      "execution_count": 76,
      "outputs": [
        {
          "output_type": "execute_result",
          "data": {
            "text/plain": [
              "(array([2., 3., 4., 5., 6., 7., 8.]),\n",
              " tensor([1., 2., 3., 4., 5., 6., 7.], dtype=torch.float64))"
            ]
          },
          "metadata": {},
          "execution_count": 76
        }
      ]
    },
    {
      "cell_type": "code",
      "source": [
        "tensor = torch.ones(7)\n",
        "numpy_tensor = tensor.numpy()\n",
        "tensor, numpy_tensor"
      ],
      "metadata": {
        "id": "zxvfze0mx20Y",
        "outputId": "1ab2b152-3cea-4302-81c4-3899b545764b",
        "colab": {
          "base_uri": "https://localhost:8080/"
        }
      },
      "execution_count": 77,
      "outputs": [
        {
          "output_type": "execute_result",
          "data": {
            "text/plain": [
              "(tensor([1., 1., 1., 1., 1., 1., 1.]),\n",
              " array([1., 1., 1., 1., 1., 1., 1.], dtype=float32))"
            ]
          },
          "metadata": {},
          "execution_count": 77
        }
      ]
    },
    {
      "cell_type": "markdown",
      "source": [
        "## reproducibility (trying to take random out of random)\n",
        "\n",
        "in short how a neural network lerns:\n",
        "\n",
        "start with random numbers -> tensor operations -> update random numbers to try and make them better representations of the data -> again -> again -> again > ...\n",
        "\n",
        "\n",
        "to reduce the randomness in neural nets and pytorch comes the concept of **random seed**\n",
        "\n",
        "what seed does is *flavour* the randomness"
      ],
      "metadata": {
        "id": "gpWSxIMcx_UK"
      }
    },
    {
      "cell_type": "code",
      "source": [
        "torch.rand(3,3)"
      ],
      "metadata": {
        "id": "RsFGpSkOzMBS",
        "outputId": "043be4e2-4909-4b2f-9019-d8f1adcacc7c",
        "colab": {
          "base_uri": "https://localhost:8080/"
        }
      },
      "execution_count": 78,
      "outputs": [
        {
          "output_type": "execute_result",
          "data": {
            "text/plain": [
              "tensor([[0.2030, 0.6370, 0.9079],\n",
              "        [0.3292, 0.3678, 0.0819],\n",
              "        [0.8076, 0.0035, 0.0431]])"
            ]
          },
          "metadata": {},
          "execution_count": 78
        }
      ]
    },
    {
      "cell_type": "code",
      "source": [
        "random_tensor_A = torch.rand(3,4)\n",
        "random_tensor_B = torch.rand(3,4)\n",
        "\n",
        "print(random_tensor_A)\n",
        "print(random_tensor_B)\n",
        "print(random_tensor_A == random_tensor_B)"
      ],
      "metadata": {
        "id": "AN5gjtaBzaAN",
        "outputId": "20f48e4b-6991-431e-c81b-cf0298d7cadf",
        "colab": {
          "base_uri": "https://localhost:8080/"
        }
      },
      "execution_count": 80,
      "outputs": [
        {
          "output_type": "stream",
          "name": "stdout",
          "text": [
            "tensor([[0.5127, 0.6531, 0.6774, 0.8354],\n",
            "        [0.6202, 0.1320, 0.6613, 0.3431],\n",
            "        [0.5077, 0.1053, 0.5637, 0.8400]])\n",
            "tensor([[0.1290, 0.1503, 0.5850, 0.4536],\n",
            "        [0.0789, 0.2622, 0.0402, 0.2294],\n",
            "        [0.0363, 0.4311, 0.2060, 0.0838]])\n",
            "tensor([[False, False, False, False],\n",
            "        [False, False, False, False],\n",
            "        [False, False, False, False]])\n"
          ]
        }
      ]
    },
    {
      "cell_type": "code",
      "source": [
        "RANDOM_SEED = 42\n",
        "torch.manual_seed(RANDOM_SEED)\n",
        "\n",
        "random_tensor_C = torch.rand(3,4)\n",
        "\n",
        "torch.manual_seed(RANDOM_SEED)\n",
        "random_tensor_D = torch.rand(3,4)\n",
        "\n",
        "print(random_tensor_C)\n",
        "print(random_tensor_D)"
      ],
      "metadata": {
        "id": "_0U88Xin0BHC",
        "outputId": "d78b57e9-c68d-40af-c633-b2d0377bd218",
        "colab": {
          "base_uri": "https://localhost:8080/"
        }
      },
      "execution_count": 81,
      "outputs": [
        {
          "output_type": "stream",
          "name": "stdout",
          "text": [
            "tensor([[0.8823, 0.9150, 0.3829, 0.9593],\n",
            "        [0.3904, 0.6009, 0.2566, 0.7936],\n",
            "        [0.9408, 0.1332, 0.9346, 0.5936]])\n",
            "tensor([[0.8823, 0.9150, 0.3829, 0.9593],\n",
            "        [0.3904, 0.6009, 0.2566, 0.7936],\n",
            "        [0.9408, 0.1332, 0.9346, 0.5936]])\n"
          ]
        }
      ]
    },
    {
      "cell_type": "code",
      "source": [],
      "metadata": {
        "id": "i2d13L8A0iuD"
      },
      "execution_count": null,
      "outputs": []
    }
  ]
}